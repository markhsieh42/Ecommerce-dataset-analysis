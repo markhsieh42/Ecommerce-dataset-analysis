{
  "nbformat": 4,
  "nbformat_minor": 0,
  "metadata": {
    "colab": {
      "name": "E-commerce_dataset.ipynb",
      "provenance": [],
      "collapsed_sections": [
        "Rs-qf-vRkbLL"
      ]
    },
    "kernelspec": {
      "name": "python3",
      "display_name": "Python 3"
    }
  },
  "cells": [
    {
      "cell_type": "markdown",
      "metadata": {
        "id": "Rs-qf-vRkbLL",
        "colab_type": "text"
      },
      "source": [
        "# Just Some old codes -- for considration"
      ]
    },
    {
      "cell_type": "code",
      "metadata": {
        "id": "8i8ClXImkT2S",
        "colab_type": "code",
        "colab": {}
      },
      "source": [
        "import numpy as np\n",
        "arr = np.random.randn(5,3)\n",
        "\n",
        "arr.sort(1)\n",
        "arr.sort(0)\n",
        "\n",
        "\n",
        "\n",
        "from enum import Enum\n",
        "class Country(Enum):\n",
        "    Afghanistan = 93\n",
        "    Albania = 355\n",
        "    Algeria = 213\n",
        "    Andorra = 376\n",
        "    Angola = 244\n",
        "    Antarctica = 672\n",
        "for data in Country:\n",
        "    print('{:15} = {}'.format(data.name, data.value))"
      ],
      "execution_count": null,
      "outputs": []
    },
    {
      "cell_type": "markdown",
      "metadata": {
        "id": "-6bgUFM7kgjr",
        "colab_type": "text"
      },
      "source": [
        "# Load data"
      ]
    },
    {
      "cell_type": "code",
      "metadata": {
        "id": "4GF80Im387ov",
        "colab_type": "code",
        "colab": {}
      },
      "source": [
        "import numpy as np\n",
        "import pandas as pd\n",
        "import matplotlib.pyplot as plt\n",
        "import seaborn as sns\n",
        "\n",
        "import re \n",
        "import datetime\n",
        "\n",
        "from nltk.stem.porter import PorterStemmer\n",
        "from nltk.stem.wordnet import WordNetLemmatizer"
      ],
      "execution_count": 41,
      "outputs": []
    },
    {
      "cell_type": "code",
      "metadata": {
        "id": "nawqp0-a9BjQ",
        "colab_type": "code",
        "colab": {}
      },
      "source": [
        "df = pd.read_csv('data.csv', encoding='latin-1')"
      ],
      "execution_count": 2,
      "outputs": []
    },
    {
      "cell_type": "code",
      "metadata": {
        "id": "OFIq4lvR9BpK",
        "colab_type": "code",
        "colab": {
          "base_uri": "https://localhost:8080/",
          "height": 142
        },
        "outputId": "ee5b2031-e11c-4eb7-e958-dc01751791af"
      },
      "source": [
        "df.head(3)"
      ],
      "execution_count": 3,
      "outputs": [
        {
          "output_type": "execute_result",
          "data": {
            "text/html": [
              "<div>\n",
              "<style scoped>\n",
              "    .dataframe tbody tr th:only-of-type {\n",
              "        vertical-align: middle;\n",
              "    }\n",
              "\n",
              "    .dataframe tbody tr th {\n",
              "        vertical-align: top;\n",
              "    }\n",
              "\n",
              "    .dataframe thead th {\n",
              "        text-align: right;\n",
              "    }\n",
              "</style>\n",
              "<table border=\"1\" class=\"dataframe\">\n",
              "  <thead>\n",
              "    <tr style=\"text-align: right;\">\n",
              "      <th></th>\n",
              "      <th>InvoiceNo</th>\n",
              "      <th>StockCode</th>\n",
              "      <th>Description</th>\n",
              "      <th>Quantity</th>\n",
              "      <th>InvoiceDate</th>\n",
              "      <th>UnitPrice</th>\n",
              "      <th>CustomerID</th>\n",
              "      <th>Country</th>\n",
              "    </tr>\n",
              "  </thead>\n",
              "  <tbody>\n",
              "    <tr>\n",
              "      <th>0</th>\n",
              "      <td>536365</td>\n",
              "      <td>85123A</td>\n",
              "      <td>WHITE HANGING HEART T-LIGHT HOLDER</td>\n",
              "      <td>6</td>\n",
              "      <td>12/1/2010 8:26</td>\n",
              "      <td>2.55</td>\n",
              "      <td>17850.0</td>\n",
              "      <td>United Kingdom</td>\n",
              "    </tr>\n",
              "    <tr>\n",
              "      <th>1</th>\n",
              "      <td>536365</td>\n",
              "      <td>71053</td>\n",
              "      <td>WHITE METAL LANTERN</td>\n",
              "      <td>6</td>\n",
              "      <td>12/1/2010 8:26</td>\n",
              "      <td>3.39</td>\n",
              "      <td>17850.0</td>\n",
              "      <td>United Kingdom</td>\n",
              "    </tr>\n",
              "    <tr>\n",
              "      <th>2</th>\n",
              "      <td>536365</td>\n",
              "      <td>84406B</td>\n",
              "      <td>CREAM CUPID HEARTS COAT HANGER</td>\n",
              "      <td>8</td>\n",
              "      <td>12/1/2010 8:26</td>\n",
              "      <td>2.75</td>\n",
              "      <td>17850.0</td>\n",
              "      <td>United Kingdom</td>\n",
              "    </tr>\n",
              "  </tbody>\n",
              "</table>\n",
              "</div>"
            ],
            "text/plain": [
              "  InvoiceNo StockCode  ... CustomerID         Country\n",
              "0    536365    85123A  ...    17850.0  United Kingdom\n",
              "1    536365     71053  ...    17850.0  United Kingdom\n",
              "2    536365    84406B  ...    17850.0  United Kingdom\n",
              "\n",
              "[3 rows x 8 columns]"
            ]
          },
          "metadata": {
            "tags": []
          },
          "execution_count": 3
        }
      ]
    },
    {
      "cell_type": "markdown",
      "metadata": {
        "id": "aXPcDbcShMLe",
        "colab_type": "text"
      },
      "source": [
        "**Re-store data**"
      ]
    },
    {
      "cell_type": "code",
      "metadata": {
        "id": "TOemKSQ8hip4",
        "colab_type": "code",
        "colab": {}
      },
      "source": [
        "newdata = df        # (541909, 8)"
      ],
      "execution_count": 4,
      "outputs": []
    },
    {
      "cell_type": "markdown",
      "metadata": {
        "id": "B8j72Ed3htZq",
        "colab_type": "text"
      },
      "source": [
        "**Pre-define functions**"
      ]
    },
    {
      "cell_type": "code",
      "metadata": {
        "id": "jV5dBy2MhsfG",
        "colab_type": "code",
        "colab": {}
      },
      "source": [
        "# change data type:\n",
        "def chagfmt(dataname, col1, format, *arg):\n",
        "  dataname[col1] = dataname[col1].astype(format)"
      ],
      "execution_count": 5,
      "outputs": []
    },
    {
      "cell_type": "code",
      "metadata": {
        "id": "AlDb_-FGw4TJ",
        "colab_type": "code",
        "colab": {}
      },
      "source": [
        "# merge two lists:\n",
        "def merge(list1, list2): \n",
        "      \n",
        "    merged_list = [(list1[i], list2[i]) for i in range(0, len(list1))] \n",
        "    return merged_list "
      ],
      "execution_count": 6,
      "outputs": []
    },
    {
      "cell_type": "markdown",
      "metadata": {
        "id": "P8OQhUdbg2gR",
        "colab_type": "text"
      },
      "source": [
        "# Data Cleaning -- missing values"
      ]
    },
    {
      "cell_type": "code",
      "metadata": {
        "id": "zlHkJqW49BvP",
        "colab_type": "code",
        "colab": {
          "base_uri": "https://localhost:8080/",
          "height": 720
        },
        "outputId": "1ec2a4cf-ac9a-48c1-df4d-f9f529b00c5f"
      },
      "source": [
        "def chk_ms_val(data):\n",
        "  # prepare for plot the missing value\n",
        "  percent_missing = data.isnull().sum() / len(data)\n",
        "  percent_missing_df = pd.DataFrame({'percent_missing': percent_missing})\n",
        "  percent_missing_df = percent_missing_df.sort_values(['percent_missing'], ascending = False).reset_index(drop=False)\n",
        "\n",
        "  # define the style of the plot\n",
        "  sns.set(style=\"whitegrid\")\n",
        "  \n",
        "  # Initialize the matplotlib figure\n",
        "  f, ax = plt.subplots(figsize=(6, 12))\n",
        "  # Plot the total crashes\n",
        "  sns.set_color_codes(\"pastel\")\n",
        "  sns.barplot(x=\"percent_missing\", y=\"index\", data=percent_missing_df,\n",
        "              label=\"Total missing\", color=\"b\")\n",
        "    \n",
        "chk_ms_val(newdata)"
      ],
      "execution_count": 7,
      "outputs": [
        {
          "output_type": "display_data",
          "data": {
            "image/png": "[encoded data removed]",
            "text/plain": [
              "<Figure size 432x864 with 1 Axes>"
            ]
          },
          "metadata": {
            "tags": []
          }
        }
      ]
    },
    {
      "cell_type": "markdown",
      "metadata": {
        "id": "cyDVnOGghAc9",
        "colab_type": "text"
      },
      "source": [
        "# Data Cleaning -- convert to the right data type"
      ]
    },
    {
      "cell_type": "code",
      "metadata": {
        "id": "DTSa6jEB9B7D",
        "colab_type": "code",
        "colab": {
          "base_uri": "https://localhost:8080/",
          "height": 272
        },
        "outputId": "cf2f3ea8-9e41-455f-b608-98d03cdf9dd5"
      },
      "source": [
        "newdata.info()"
      ],
      "execution_count": 8,
      "outputs": [
        {
          "output_type": "stream",
          "text": [
            "<class 'pandas.core.frame.DataFrame'>\n",
            "RangeIndex: 541909 entries, 0 to 541908\n",
            "Data columns (total 8 columns):\n",
            " #   Column       Non-Null Count   Dtype  \n",
            "---  ------       --------------   -----  \n",
            " 0   InvoiceNo    541909 non-null  object \n",
            " 1   StockCode    541909 non-null  object \n",
            " 2   Description  540455 non-null  object \n",
            " 3   Quantity     541909 non-null  int64  \n",
            " 4   InvoiceDate  541909 non-null  object \n",
            " 5   UnitPrice    541909 non-null  float64\n",
            " 6   CustomerID   406829 non-null  float64\n",
            " 7   Country      541909 non-null  object \n",
            "dtypes: float64(2), int64(1), object(5)\n",
            "memory usage: 33.1+ MB\n"
          ],
          "name": "stdout"
        }
      ]
    },
    {
      "cell_type": "code",
      "metadata": {
        "id": "HRyTcPKQ9CBC",
        "colab_type": "code",
        "colab": {}
      },
      "source": [
        "colnames = ['InvoiceNo', 'StockCode', 'Description', 'Country']\n",
        "datatypes = ['str', 'str', 'str', 'category']\n",
        "tuples = merge(colnames, datatypes)                           # define the 'merge' function\n",
        "\n",
        "for i, j in tuples:\n",
        "  chagfmt(newdata, i, j)"
      ],
      "execution_count": 9,
      "outputs": []
    },
    {
      "cell_type": "markdown",
      "metadata": {
        "id": "Hg2iN7NZ4a2e",
        "colab_type": "text"
      },
      "source": [
        "# Data cleaning -- InvoiceNo with a \"C\""
      ]
    },
    {
      "cell_type": "markdown",
      "metadata": {
        "id": "yv8CiW1N4yyn",
        "colab_type": "text"
      },
      "source": [
        "Accoding to chagfmt result above, error happens when convert InvoiceNo into Integer. Let's take a look how many observations mistakely input 'Invoice' as 'StockCode'."
      ]
    },
    {
      "cell_type": "code",
      "metadata": {
        "id": "f-8hCh259CG-",
        "colab_type": "code",
        "colab": {}
      },
      "source": [
        "# Check the column 'InvoiceNo' with letters in it.\n",
        "temp = []\n",
        "\n",
        "for i in newdata['InvoiceNo']:\n",
        "  temp.append(any(c.isalpha() for c in i))"
      ],
      "execution_count": 10,
      "outputs": []
    },
    {
      "cell_type": "code",
      "metadata": {
        "id": "q7i8z8NB9B-8",
        "colab_type": "code",
        "colab": {
          "base_uri": "https://localhost:8080/",
          "height": 419
        },
        "outputId": "9e91acea-8675-4d9a-d771-9683624ed7f1"
      },
      "source": [
        "InvoiceNo_withC = newdata[temp]                # shape: (541909, 8)\n",
        "InvoiceNo_withC"
      ],
      "execution_count": 11,
      "outputs": [
        {
          "output_type": "execute_result",
          "data": {
            "text/html": [
              "<div>\n",
              "<style scoped>\n",
              "    .dataframe tbody tr th:only-of-type {\n",
              "        vertical-align: middle;\n",
              "    }\n",
              "\n",
              "    .dataframe tbody tr th {\n",
              "        vertical-align: top;\n",
              "    }\n",
              "\n",
              "    .dataframe thead th {\n",
              "        text-align: right;\n",
              "    }\n",
              "</style>\n",
              "<table border=\"1\" class=\"dataframe\">\n",
              "  <thead>\n",
              "    <tr style=\"text-align: right;\">\n",
              "      <th></th>\n",
              "      <th>InvoiceNo</th>\n",
              "      <th>StockCode</th>\n",
              "      <th>Description</th>\n",
              "      <th>Quantity</th>\n",
              "      <th>InvoiceDate</th>\n",
              "      <th>UnitPrice</th>\n",
              "      <th>CustomerID</th>\n",
              "      <th>Country</th>\n",
              "    </tr>\n",
              "  </thead>\n",
              "  <tbody>\n",
              "    <tr>\n",
              "      <th>141</th>\n",
              "      <td>C536379</td>\n",
              "      <td>D</td>\n",
              "      <td>Discount</td>\n",
              "      <td>-1</td>\n",
              "      <td>12/1/2010 9:41</td>\n",
              "      <td>27.50</td>\n",
              "      <td>14527.0</td>\n",
              "      <td>United Kingdom</td>\n",
              "    </tr>\n",
              "    <tr>\n",
              "      <th>154</th>\n",
              "      <td>C536383</td>\n",
              "      <td>35004C</td>\n",
              "      <td>SET OF 3 COLOURED  FLYING DUCKS</td>\n",
              "      <td>-1</td>\n",
              "      <td>12/1/2010 9:49</td>\n",
              "      <td>4.65</td>\n",
              "      <td>15311.0</td>\n",
              "      <td>United Kingdom</td>\n",
              "    </tr>\n",
              "    <tr>\n",
              "      <th>235</th>\n",
              "      <td>C536391</td>\n",
              "      <td>22556</td>\n",
              "      <td>PLASTERS IN TIN CIRCUS PARADE</td>\n",
              "      <td>-12</td>\n",
              "      <td>12/1/2010 10:24</td>\n",
              "      <td>1.65</td>\n",
              "      <td>17548.0</td>\n",
              "      <td>United Kingdom</td>\n",
              "    </tr>\n",
              "    <tr>\n",
              "      <th>236</th>\n",
              "      <td>C536391</td>\n",
              "      <td>21984</td>\n",
              "      <td>PACK OF 12 PINK PAISLEY TISSUES</td>\n",
              "      <td>-24</td>\n",
              "      <td>12/1/2010 10:24</td>\n",
              "      <td>0.29</td>\n",
              "      <td>17548.0</td>\n",
              "      <td>United Kingdom</td>\n",
              "    </tr>\n",
              "    <tr>\n",
              "      <th>237</th>\n",
              "      <td>C536391</td>\n",
              "      <td>21983</td>\n",
              "      <td>PACK OF 12 BLUE PAISLEY TISSUES</td>\n",
              "      <td>-24</td>\n",
              "      <td>12/1/2010 10:24</td>\n",
              "      <td>0.29</td>\n",
              "      <td>17548.0</td>\n",
              "      <td>United Kingdom</td>\n",
              "    </tr>\n",
              "    <tr>\n",
              "      <th>...</th>\n",
              "      <td>...</td>\n",
              "      <td>...</td>\n",
              "      <td>...</td>\n",
              "      <td>...</td>\n",
              "      <td>...</td>\n",
              "      <td>...</td>\n",
              "      <td>...</td>\n",
              "      <td>...</td>\n",
              "    </tr>\n",
              "    <tr>\n",
              "      <th>540449</th>\n",
              "      <td>C581490</td>\n",
              "      <td>23144</td>\n",
              "      <td>ZINC T-LIGHT HOLDER STARS SMALL</td>\n",
              "      <td>-11</td>\n",
              "      <td>12/9/2011 9:57</td>\n",
              "      <td>0.83</td>\n",
              "      <td>14397.0</td>\n",
              "      <td>United Kingdom</td>\n",
              "    </tr>\n",
              "    <tr>\n",
              "      <th>541541</th>\n",
              "      <td>C581499</td>\n",
              "      <td>M</td>\n",
              "      <td>Manual</td>\n",
              "      <td>-1</td>\n",
              "      <td>12/9/2011 10:28</td>\n",
              "      <td>224.69</td>\n",
              "      <td>15498.0</td>\n",
              "      <td>United Kingdom</td>\n",
              "    </tr>\n",
              "    <tr>\n",
              "      <th>541715</th>\n",
              "      <td>C581568</td>\n",
              "      <td>21258</td>\n",
              "      <td>VICTORIAN SEWING BOX LARGE</td>\n",
              "      <td>-5</td>\n",
              "      <td>12/9/2011 11:57</td>\n",
              "      <td>10.95</td>\n",
              "      <td>15311.0</td>\n",
              "      <td>United Kingdom</td>\n",
              "    </tr>\n",
              "    <tr>\n",
              "      <th>541716</th>\n",
              "      <td>C581569</td>\n",
              "      <td>84978</td>\n",
              "      <td>HANGING HEART JAR T-LIGHT HOLDER</td>\n",
              "      <td>-1</td>\n",
              "      <td>12/9/2011 11:58</td>\n",
              "      <td>1.25</td>\n",
              "      <td>17315.0</td>\n",
              "      <td>United Kingdom</td>\n",
              "    </tr>\n",
              "    <tr>\n",
              "      <th>541717</th>\n",
              "      <td>C581569</td>\n",
              "      <td>20979</td>\n",
              "      <td>36 PENCILS TUBE RED RETROSPOT</td>\n",
              "      <td>-5</td>\n",
              "      <td>12/9/2011 11:58</td>\n",
              "      <td>1.25</td>\n",
              "      <td>17315.0</td>\n",
              "      <td>United Kingdom</td>\n",
              "    </tr>\n",
              "  </tbody>\n",
              "</table>\n",
              "<p>9291 rows × 8 columns</p>\n",
              "</div>"
            ],
            "text/plain": [
              "       InvoiceNo StockCode  ... CustomerID         Country\n",
              "141      C536379         D  ...    14527.0  United Kingdom\n",
              "154      C536383    35004C  ...    15311.0  United Kingdom\n",
              "235      C536391     22556  ...    17548.0  United Kingdom\n",
              "236      C536391     21984  ...    17548.0  United Kingdom\n",
              "237      C536391     21983  ...    17548.0  United Kingdom\n",
              "...          ...       ...  ...        ...             ...\n",
              "540449   C581490     23144  ...    14397.0  United Kingdom\n",
              "541541   C581499         M  ...    15498.0  United Kingdom\n",
              "541715   C581568     21258  ...    15311.0  United Kingdom\n",
              "541716   C581569     84978  ...    17315.0  United Kingdom\n",
              "541717   C581569     20979  ...    17315.0  United Kingdom\n",
              "\n",
              "[9291 rows x 8 columns]"
            ]
          },
          "metadata": {
            "tags": []
          },
          "execution_count": 11
        }
      ]
    },
    {
      "cell_type": "markdown",
      "metadata": {
        "id": "o0vApGheMQYt",
        "colab_type": "text"
      },
      "source": [
        "Ok, so, I think it is obvious that InvoiceNo with form 'C + No' is the refund of 'No' transactions because the 'Quantity' is negative."
      ]
    },
    {
      "cell_type": "code",
      "metadata": {
        "id": "NFYRhWDx9Byd",
        "colab_type": "code",
        "colab": {}
      },
      "source": [
        "# let's find out which are those transactions\n",
        "temp1 = []\n",
        "\n",
        "for i in InvoiceNo_withC['InvoiceNo']:\n",
        "  temp1.append(re.split('(\\d+)',i))"
      ],
      "execution_count": 12,
      "outputs": []
    },
    {
      "cell_type": "code",
      "metadata": {
        "id": "gylEDaLU9Bsv",
        "colab_type": "code",
        "colab": {}
      },
      "source": [
        "InvoiceNo_refund = []\n",
        "\n",
        "for i, j in enumerate(temp1):\n",
        "  InvoiceNo_refund.append(temp1[i][1])\n",
        "\n",
        "InvoiceNo_refund"
      ],
      "execution_count": null,
      "outputs": []
    },
    {
      "cell_type": "code",
      "metadata": {
        "id": "EdfB9c8lT7Gg",
        "colab_type": "code",
        "colab": {
          "base_uri": "https://localhost:8080/",
          "height": 34
        },
        "outputId": "40d0210d-6437-42ca-95be-0eb3d94a93a6"
      },
      "source": [
        "all(isinstance(i, str) for i in InvoiceNo_refund)   # check type of elements in a list"
      ],
      "execution_count": 14,
      "outputs": [
        {
          "output_type": "execute_result",
          "data": {
            "text/plain": [
              "True"
            ]
          },
          "metadata": {
            "tags": []
          },
          "execution_count": 14
        }
      ]
    },
    {
      "cell_type": "code",
      "metadata": {
        "id": "rKfQjNH_XId8",
        "colab_type": "code",
        "colab": {}
      },
      "source": [
        "kkk = list(dict.fromkeys(InvoiceNo_refund))       # get unique elements of a list"
      ],
      "execution_count": 15,
      "outputs": []
    },
    {
      "cell_type": "code",
      "metadata": {
        "id": "4jLq7_ujZFpN",
        "colab_type": "code",
        "colab": {
          "base_uri": "https://localhost:8080/",
          "height": 49
        },
        "outputId": "d6701849-dd4b-4501-acc6-120de040bb64"
      },
      "source": [
        "newdata[newdata.InvoiceNo.isin(kkk)]              # no observation was selected"
      ],
      "execution_count": 16,
      "outputs": [
        {
          "output_type": "execute_result",
          "data": {
            "text/html": [
              "<div>\n",
              "<style scoped>\n",
              "    .dataframe tbody tr th:only-of-type {\n",
              "        vertical-align: middle;\n",
              "    }\n",
              "\n",
              "    .dataframe tbody tr th {\n",
              "        vertical-align: top;\n",
              "    }\n",
              "\n",
              "    .dataframe thead th {\n",
              "        text-align: right;\n",
              "    }\n",
              "</style>\n",
              "<table border=\"1\" class=\"dataframe\">\n",
              "  <thead>\n",
              "    <tr style=\"text-align: right;\">\n",
              "      <th></th>\n",
              "      <th>InvoiceNo</th>\n",
              "      <th>StockCode</th>\n",
              "      <th>Description</th>\n",
              "      <th>Quantity</th>\n",
              "      <th>InvoiceDate</th>\n",
              "      <th>UnitPrice</th>\n",
              "      <th>CustomerID</th>\n",
              "      <th>Country</th>\n",
              "    </tr>\n",
              "  </thead>\n",
              "  <tbody>\n",
              "  </tbody>\n",
              "</table>\n",
              "</div>"
            ],
            "text/plain": [
              "Empty DataFrame\n",
              "Columns: [InvoiceNo, StockCode, Description, Quantity, InvoiceDate, UnitPrice, CustomerID, Country]\n",
              "Index: []"
            ]
          },
          "metadata": {
            "tags": []
          },
          "execution_count": 16
        }
      ]
    },
    {
      "cell_type": "markdown",
      "metadata": {
        "id": "_T75Yu8rhZcV",
        "colab_type": "text"
      },
      "source": [
        "OK, so, the code above proofed one thing: if you bought one thing then you refund it, a upperletter \"C\" will be add as prefix to origianl 'InvoiceNo'. \n",
        "\n",
        "So, let's take a look at the rate of refund."
      ]
    },
    {
      "cell_type": "code",
      "metadata": {
        "id": "SPI1-MR_bMFx",
        "colab_type": "code",
        "colab": {
          "base_uri": "https://localhost:8080/",
          "height": 34
        },
        "outputId": "133f259e-acc0-4e24-a00e-eb7c27c64980"
      },
      "source": [
        "# calculate the rate of refund\n",
        "\n",
        "rate_of_refund = InvoiceNo_withC.shape[0]/newdata.shape[0]\n",
        "print(f'Conclusion: {rate_of_refund * 100}% of the items get refunded')"
      ],
      "execution_count": 17,
      "outputs": [
        {
          "output_type": "stream",
          "text": [
            "Conclusion: 1.7144944999990772% of the items get refunded\n"
          ],
          "name": "stdout"
        }
      ]
    },
    {
      "cell_type": "markdown",
      "metadata": {
        "id": "0XqhVkFFld3i",
        "colab_type": "text"
      },
      "source": [
        "# Data Analysis -- NLP to item names"
      ]
    },
    {
      "cell_type": "code",
      "metadata": {
        "id": "CiAxy_dybMJL",
        "colab_type": "code",
        "colab": {}
      },
      "source": [
        "df_nlp = newdata"
      ],
      "execution_count": 20,
      "outputs": []
    },
    {
      "cell_type": "markdown",
      "metadata": {
        "id": "M8aaXJ9UFbX2",
        "colab_type": "text"
      },
      "source": [
        "**Preliminary text exploration -- Fetch word count for each abstract**"
      ]
    },
    {
      "cell_type": "code",
      "metadata": {
        "id": "_9BFBHXpkQuX",
        "colab_type": "code",
        "colab": {}
      },
      "source": [
        "df_nlp['word_count'] = df_nlp['Description'].apply(lambda x: len(str(x).split(\" \")))"
      ],
      "execution_count": 22,
      "outputs": []
    },
    {
      "cell_type": "code",
      "metadata": {
        "id": "vruaCRrlkQ3f",
        "colab_type": "code",
        "colab": {
          "base_uri": "https://localhost:8080/",
          "height": 297
        },
        "outputId": "682c7cd3-51f0-424c-99d7-bb0043aa1f93"
      },
      "source": [
        "df_nlp[['Description', 'word_count']].head(8)"
      ],
      "execution_count": 25,
      "outputs": [
        {
          "output_type": "execute_result",
          "data": {
            "text/html": [
              "<div>\n",
              "<style scoped>\n",
              "    .dataframe tbody tr th:only-of-type {\n",
              "        vertical-align: middle;\n",
              "    }\n",
              "\n",
              "    .dataframe tbody tr th {\n",
              "        vertical-align: top;\n",
              "    }\n",
              "\n",
              "    .dataframe thead th {\n",
              "        text-align: right;\n",
              "    }\n",
              "</style>\n",
              "<table border=\"1\" class=\"dataframe\">\n",
              "  <thead>\n",
              "    <tr style=\"text-align: right;\">\n",
              "      <th></th>\n",
              "      <th>Description</th>\n",
              "      <th>word_count</th>\n",
              "    </tr>\n",
              "  </thead>\n",
              "  <tbody>\n",
              "    <tr>\n",
              "      <th>0</th>\n",
              "      <td>WHITE HANGING HEART T-LIGHT HOLDER</td>\n",
              "      <td>5</td>\n",
              "    </tr>\n",
              "    <tr>\n",
              "      <th>1</th>\n",
              "      <td>WHITE METAL LANTERN</td>\n",
              "      <td>3</td>\n",
              "    </tr>\n",
              "    <tr>\n",
              "      <th>2</th>\n",
              "      <td>CREAM CUPID HEARTS COAT HANGER</td>\n",
              "      <td>5</td>\n",
              "    </tr>\n",
              "    <tr>\n",
              "      <th>3</th>\n",
              "      <td>KNITTED UNION FLAG HOT WATER BOTTLE</td>\n",
              "      <td>6</td>\n",
              "    </tr>\n",
              "    <tr>\n",
              "      <th>4</th>\n",
              "      <td>RED WOOLLY HOTTIE WHITE HEART.</td>\n",
              "      <td>5</td>\n",
              "    </tr>\n",
              "    <tr>\n",
              "      <th>5</th>\n",
              "      <td>SET 7 BABUSHKA NESTING BOXES</td>\n",
              "      <td>5</td>\n",
              "    </tr>\n",
              "    <tr>\n",
              "      <th>6</th>\n",
              "      <td>GLASS STAR FROSTED T-LIGHT HOLDER</td>\n",
              "      <td>5</td>\n",
              "    </tr>\n",
              "    <tr>\n",
              "      <th>7</th>\n",
              "      <td>HAND WARMER UNION JACK</td>\n",
              "      <td>4</td>\n",
              "    </tr>\n",
              "  </tbody>\n",
              "</table>\n",
              "</div>"
            ],
            "text/plain": [
              "                           Description  word_count\n",
              "0   WHITE HANGING HEART T-LIGHT HOLDER           5\n",
              "1                  WHITE METAL LANTERN           3\n",
              "2       CREAM CUPID HEARTS COAT HANGER           5\n",
              "3  KNITTED UNION FLAG HOT WATER BOTTLE           6\n",
              "4       RED WOOLLY HOTTIE WHITE HEART.           5\n",
              "5         SET 7 BABUSHKA NESTING BOXES           5\n",
              "6    GLASS STAR FROSTED T-LIGHT HOLDER           5\n",
              "7               HAND WARMER UNION JACK           4"
            ]
          },
          "metadata": {
            "tags": []
          },
          "execution_count": 25
        }
      ]
    },
    {
      "cell_type": "code",
      "metadata": {
        "id": "h_xchsuXkRJA",
        "colab_type": "code",
        "colab": {
          "base_uri": "https://localhost:8080/",
          "height": 170
        },
        "outputId": "8ffbd2d6-43bf-4ff6-8939-f5748bb274e4"
      },
      "source": [
        "# descriptive statistics of word counts\n",
        "df_nlp.word_count.describe()"
      ],
      "execution_count": 30,
      "outputs": [
        {
          "output_type": "execute_result",
          "data": {
            "text/plain": [
              "count    541909.000000\n",
              "mean          4.628665\n",
              "std           1.205268\n",
              "min           1.000000\n",
              "25%           4.000000\n",
              "50%           5.000000\n",
              "75%           5.000000\n",
              "max          10.000000\n",
              "Name: word_count, dtype: float64"
            ]
          },
          "metadata": {
            "tags": []
          },
          "execution_count": 30
        }
      ]
    },
    {
      "cell_type": "code",
      "metadata": {
        "id": "OuKqQFU5kRGL",
        "colab_type": "code",
        "colab": {
          "base_uri": "https://localhost:8080/",
          "height": 34
        },
        "outputId": "bacb247d-c0c9-492a-d0c8-cfe963cbc120"
      },
      "source": [
        "print(f'The average word count is about {int(df_nlp.word_count.describe()[1])} words per abstract. The word count ranges from a minimum of {int(df_nlp.word_count.describe()[3])} to a maximum of {df_nlp.word_count.describe()[7]}.')"
      ],
      "execution_count": 32,
      "outputs": [
        {
          "output_type": "stream",
          "text": [
            "The average word count is about 4 words per abstract. The word count ranges from a minimum of 1 to a maximum of 10.0.\n"
          ],
          "name": "stdout"
        }
      ]
    },
    {
      "cell_type": "markdown",
      "metadata": {
        "id": "c5tqBa1bFVUy",
        "colab_type": "text"
      },
      "source": [
        "**Preliminary text exploration -- Most common and uncommon words**"
      ]
    },
    {
      "cell_type": "code",
      "metadata": {
        "id": "FqNFz3sCkRD7",
        "colab_type": "code",
        "colab": {}
      },
      "source": [
        "#Identify common words\n",
        "freq = pd.Series(' '.join(df_nlp['Description']).split()).value_counts()[:20]\n",
        "freq"
      ],
      "execution_count": null,
      "outputs": []
    },
    {
      "cell_type": "code",
      "metadata": {
        "id": "sn-75OJ6kRB9",
        "colab_type": "code",
        "colab": {}
      },
      "source": [
        "#Identify uncommon words\n",
        "freq1 =  pd.Series(' '.join(df_nlp['Description']).split()).value_counts()[-20:]\n",
        "freq1                                                                 # There are reasons that this result is not important"
      ],
      "execution_count": null,
      "outputs": []
    },
    {
      "cell_type": "markdown",
      "metadata": {
        "id": "gHNRg3R7FPCB",
        "colab_type": "text"
      },
      "source": [
        "**Text Pre-processing**"
      ]
    },
    {
      "cell_type": "code",
      "metadata": {
        "id": "GkuqWUxkFOa3",
        "colab_type": "code",
        "colab": {
          "base_uri": "https://localhost:8080/",
          "height": 119
        },
        "outputId": "a150a8b8-f140-450e-c6c1-618a28402a87"
      },
      "source": [
        "from nltk.stem.porter import PorterStemmer\n",
        "from nltk.stem.wordnet import WordNetLemmatizer\n",
        "import nltk\n",
        "nltk.download('wordnet')\n",
        "nltk.download('stopwords')\n",
        "\n",
        "lem = WordNetLemmatizer()\n",
        "stem = PorterStemmer()\n",
        "word = \"inversely\"\n",
        "print(\"stemming:\",stem.stem(word))\n",
        "print(\"lemmatization:\", lem.lemmatize(word, \"v\"))"
      ],
      "execution_count": 58,
      "outputs": [
        {
          "output_type": "stream",
          "text": [
            "[nltk_data] Downloading package wordnet to /root/nltk_data...\n",
            "[nltk_data]   Package wordnet is already up-to-date!\n",
            "[nltk_data] Downloading package stopwords to /root/nltk_data...\n",
            "[nltk_data]   Unzipping corpora/stopwords.zip.\n",
            "stemming: invers\n",
            "lemmatization: inversely\n"
          ],
          "name": "stdout"
        }
      ]
    },
    {
      "cell_type": "code",
      "metadata": {
        "id": "Vke3-hMjG56W",
        "colab_type": "code",
        "colab": {}
      },
      "source": [
        "# Libraries for text preprocessing\n",
        "from nltk.corpus import stopwords\n",
        "from nltk.stem.porter import PorterStemmer\n",
        "from nltk.tokenize import RegexpTokenizer\n",
        "from nltk.stem.wordnet import WordNetLemmatizer"
      ],
      "execution_count": 55,
      "outputs": []
    },
    {
      "cell_type": "code",
      "metadata": {
        "id": "Hax4ScLdPYvp",
        "colab_type": "code",
        "colab": {}
      },
      "source": [
        "##Creating a list of stop words and adding custom stopwords\n",
        "stop_words = set(stopwords.words(\"english\"))\n",
        "##Creating a list of custom stopwords\n",
        "new_words = [\"using\", \"show\", \"result\", \"large\", \"also\", \"iv\", \"one\", \"two\", \"new\", \"previously\", \"shown\"]\n",
        "stop_words = stop_words.union(new_words)"
      ],
      "execution_count": 59,
      "outputs": []
    },
    {
      "cell_type": "code",
      "metadata": {
        "id": "SvVOxwuHkQ_x",
        "colab_type": "code",
        "colab": {}
      },
      "source": [
        "# We will now carry out the pre-processing tasks step-by-step to get a cleaned and normalised text corpus:\n",
        "\n",
        "corpus = []\n",
        "for i in range(0, 541909):\n",
        "    #Remove punctuations\n",
        "    text = re.sub('[^a-zA-Z]', ' ', df_nlp['Description'][i])\n",
        "    \n",
        "    #Convert to lowercase\n",
        "    text = text.lower()\n",
        "    \n",
        "    #remove tags\n",
        "    text=re.sub(\"&lt;/?.*?&gt;\",\" &lt;&gt; \",text)\n",
        "    \n",
        "    # remove special characters and digits\n",
        "    text=re.sub(\"(\\\\d|\\\\W)+\",\" \",text)\n",
        "    \n",
        "    ##Convert to list from string\n",
        "    text = text.split()\n",
        "    \n",
        "    ##Stemming\n",
        "    ps=PorterStemmer()\n",
        "    #Lemmatisation\n",
        "    lem = WordNetLemmatizer()\n",
        "    text = [lem.lemmatize(word) for word in text if not word in  \n",
        "            stop_words] \n",
        "    text = \" \".join(text)\n",
        "    corpus.append(text)"
      ],
      "execution_count": 60,
      "outputs": []
    },
    {
      "cell_type": "code",
      "metadata": {
        "id": "XBcUMr4akQ8H",
        "colab_type": "code",
        "colab": {}
      },
      "source": [
        "#View corpus item\n",
        "corpus"
      ],
      "execution_count": null,
      "outputs": []
    },
    {
      "cell_type": "markdown",
      "metadata": {
        "id": "Tk_VSMRHQo9F",
        "colab_type": "text"
      },
      "source": [
        "**Data Exploration -- word cloud**"
      ]
    },
    {
      "cell_type": "code",
      "metadata": {
        "id": "z0YfXlmvkQzJ",
        "colab_type": "code",
        "colab": {
          "base_uri": "https://localhost:8080/",
          "height": 215
        },
        "outputId": "7ec8078b-901c-43f5-9350-6d73da67b55f"
      },
      "source": [
        "#Word cloud\n",
        "from os import path\n",
        "from PIL import Image\n",
        "from wordcloud import WordCloud, STOPWORDS, ImageColorGenerator\n",
        "import matplotlib.pyplot as plt\n",
        "% matplotlib inline\n",
        "wordcloud = WordCloud(\n",
        "                          background_color='white',\n",
        "                          stopwords=stop_words,\n",
        "                          max_words=100,\n",
        "                          max_font_size=50, \n",
        "                          random_state=42\n",
        "                         ).generate(str(corpus))\n",
        "print(wordcloud)\n",
        "fig = plt.figure(1)\n",
        "plt.imshow(wordcloud)\n",
        "plt.axis('off')\n",
        "plt.show()\n",
        "fig.savefig(\"word1.png\", dpi=900)"
      ],
      "execution_count": 64,
      "outputs": [
        {
          "output_type": "stream",
          "text": [
            "<wordcloud.wordcloud.WordCloud object at 0x7fcc84e8d128>\n"
          ],
          "name": "stdout"
        },
        {
          "output_type": "display_data",
          "data": {
            "image/png": "[encoded data removed]",
            "text/plain": [
              "<Figure size 432x288 with 1 Axes>"
            ]
          },
          "metadata": {
            "tags": [],
            "needs_background": "light"
          }
        }
      ]
    },
    {
      "cell_type": "markdown",
      "metadata": {
        "id": "pCK8wIoeSIiK",
        "colab_type": "text"
      },
      "source": [
        "**Text preparation -- creating a vector of word counts**"
      ]
    },
    {
      "cell_type": "code",
      "metadata": {
        "id": "R8VcBjtFSF5U",
        "colab_type": "code",
        "colab": {}
      },
      "source": [
        "from sklearn.feature_extraction.text import CountVectorizer\n",
        "import re\n",
        "cv=CountVectorizer(max_df=0.8,stop_words=stop_words, max_features=10000, ngram_range=(1,3))\n",
        "X=cv.fit_transform(corpus)"
      ],
      "execution_count": 65,
      "outputs": []
    },
    {
      "cell_type": "code",
      "metadata": {
        "id": "65wrmWs6bMgv",
        "colab_type": "code",
        "colab": {
          "base_uri": "https://localhost:8080/",
          "height": 187
        },
        "outputId": "89edef8c-02db-4b83-de8b-bd9f8bf35c26"
      },
      "source": [
        "list(cv.vocabulary_.keys())[:10]"
      ],
      "execution_count": 66,
      "outputs": [
        {
          "output_type": "execute_result",
          "data": {
            "text/plain": [
              "['white',\n",
              " 'hanging',\n",
              " 'heart',\n",
              " 'light',\n",
              " 'holder',\n",
              " 'white hanging',\n",
              " 'hanging heart',\n",
              " 'heart light',\n",
              " 'light holder',\n",
              " 'white hanging heart']"
            ]
          },
          "metadata": {
            "tags": []
          },
          "execution_count": 66
        }
      ]
    },
    {
      "cell_type": "markdown",
      "metadata": {
        "id": "hQvGFuItTd2i",
        "colab_type": "text"
      },
      "source": [
        "**Visualize top N uni-grams, bi-grams & tri-grams**"
      ]
    },
    {
      "cell_type": "code",
      "metadata": {
        "id": "fq5bfzhYvkZ3",
        "colab_type": "code",
        "colab": {
          "base_uri": "https://localhost:8080/",
          "height": 868
        },
        "outputId": "1dfff4de-194e-41d3-80e5-dd7a9fe09475"
      },
      "source": [
        "#Most frequently occuring words\n",
        "def get_top_n_words(corpus, n=None):\n",
        "    vec = CountVectorizer().fit(corpus)\n",
        "    bag_of_words = vec.transform(corpus)\n",
        "    sum_words = bag_of_words.sum(axis=0) \n",
        "    words_freq = [(word, sum_words[0, idx]) for word, idx in      \n",
        "                   vec.vocabulary_.items()]\n",
        "    words_freq =sorted(words_freq, key = lambda x: x[1], \n",
        "                       reverse=True)\n",
        "    return words_freq[:n]\n",
        "#Convert most freq words to dataframe for plotting bar plot\n",
        "top_words = get_top_n_words(corpus, n=20)\n",
        "top_df = pd.DataFrame(top_words)\n",
        "top_df.columns=[\"Word\", \"Freq\"]\n",
        "#Barplot of most freq words\n",
        "import seaborn as sns\n",
        "sns.set(rc={'figure.figsize':(13,8)})\n",
        "g = sns.barplot(x=\"Word\", y=\"Freq\", data=top_df)\n",
        "g.set_xticklabels(g.get_xticklabels(), rotation=30)"
      ],
      "execution_count": 68,
      "outputs": [
        {
          "output_type": "execute_result",
          "data": {
            "text/plain": [
              "[Text(0, 0, 'set'),\n",
              " Text(0, 0, 'bag'),\n",
              " Text(0, 0, 'heart'),\n",
              " Text(0, 0, 'red'),\n",
              " Text(0, 0, 'retrospot'),\n",
              " Text(0, 0, 'vintage'),\n",
              " Text(0, 0, 'design'),\n",
              " Text(0, 0, 'pink'),\n",
              " Text(0, 0, 'box'),\n",
              " Text(0, 0, 'christmas'),\n",
              " Text(0, 0, 'light'),\n",
              " Text(0, 0, 'cake'),\n",
              " Text(0, 0, 'white'),\n",
              " Text(0, 0, 'jumbo'),\n",
              " Text(0, 0, 'metal'),\n",
              " Text(0, 0, 'blue'),\n",
              " Text(0, 0, 'lunch'),\n",
              " Text(0, 0, 'card'),\n",
              " Text(0, 0, 'sign'),\n",
              " Text(0, 0, 'hanging')]"
            ]
          },
          "metadata": {
            "tags": []
          },
          "execution_count": 68
        },
        {
          "output_type": "display_data",
          "data": {
            "image/png": "[encoded data removed]",
            "text/plain": [
              "<Figure size 936x576 with 1 Axes>"
            ]
          },
          "metadata": {
            "tags": []
          }
        }
      ]
    },
    {
      "cell_type": "code",
      "metadata": {
        "id": "Ily8UgzJvRU5",
        "colab_type": "code",
        "colab": {
          "base_uri": "https://localhost:8080/",
          "height": 1000
        },
        "outputId": "d93fda08-d41e-485b-f48d-ac41d0f728f7"
      },
      "source": [
        "#Most frequently occuring Bi-grams\n",
        "def get_top_n2_words(corpus, n=None):\n",
        "    vec1 = CountVectorizer(ngram_range=(2,2),  \n",
        "            max_features=2000).fit(corpus)\n",
        "    bag_of_words = vec1.transform(corpus)\n",
        "    sum_words = bag_of_words.sum(axis=0) \n",
        "    words_freq = [(word, sum_words[0, idx]) for word, idx in     \n",
        "                  vec1.vocabulary_.items()]\n",
        "    words_freq =sorted(words_freq, key = lambda x: x[1], \n",
        "                reverse=True)\n",
        "    return words_freq[:n]\n",
        "top2_words = get_top_n2_words(corpus, n=20)\n",
        "top2_df = pd.DataFrame(top2_words)\n",
        "top2_df.columns=[\"Bi-gram\", \"Freq\"]\n",
        "print(top2_df)\n",
        "#Barplot of most freq Bi-grams\n",
        "import seaborn as sns\n",
        "sns.set(rc={'figure.figsize':(13,8)})\n",
        "h=sns.barplot(x=\"Bi-gram\", y=\"Freq\", data=top2_df)\n",
        "h.set_xticklabels(h.get_xticklabels(), rotation=45)"
      ],
      "execution_count": 69,
      "outputs": [
        {
          "output_type": "stream",
          "text": [
            "              Bi-gram   Freq\n",
            "0       red retrospot  19509\n",
            "1           jumbo bag  17036\n",
            "2           lunch bag  13793\n",
            "3          metal sign  12815\n",
            "4        light holder  11291\n",
            "5           hot water   9505\n",
            "6        water bottle   9505\n",
            "7           cake case   9185\n",
            "8          dolly girl   6892\n",
            "9   vintage christmas   6169\n",
            "10      hanging heart   6034\n",
            "11      charlotte bag   5882\n",
            "12      pink polkadot   5731\n",
            "13        bag vintage   5502\n",
            "14         fairy cake   5338\n",
            "15        drawer knob   4953\n",
            "16          lunch box   4732\n",
            "17            set red   4638\n",
            "18      pantry design   4592\n",
            "19        alarm clock   4551\n"
          ],
          "name": "stdout"
        },
        {
          "output_type": "execute_result",
          "data": {
            "text/plain": [
              "[Text(0, 0, 'red retrospot'),\n",
              " Text(0, 0, 'jumbo bag'),\n",
              " Text(0, 0, 'lunch bag'),\n",
              " Text(0, 0, 'metal sign'),\n",
              " Text(0, 0, 'light holder'),\n",
              " Text(0, 0, 'hot water'),\n",
              " Text(0, 0, 'water bottle'),\n",
              " Text(0, 0, 'cake case'),\n",
              " Text(0, 0, 'dolly girl'),\n",
              " Text(0, 0, 'vintage christmas'),\n",
              " Text(0, 0, 'hanging heart'),\n",
              " Text(0, 0, 'charlotte bag'),\n",
              " Text(0, 0, 'pink polkadot'),\n",
              " Text(0, 0, 'bag vintage'),\n",
              " Text(0, 0, 'fairy cake'),\n",
              " Text(0, 0, 'drawer knob'),\n",
              " Text(0, 0, 'lunch box'),\n",
              " Text(0, 0, 'set red'),\n",
              " Text(0, 0, 'pantry design'),\n",
              " Text(0, 0, 'alarm clock')]"
            ]
          },
          "metadata": {
            "tags": []
          },
          "execution_count": 69
        },
        {
          "output_type": "display_data",
          "data": {
            "image/png": "[encoded data removed]",
            "text/plain": [
              "<Figure size 936x576 with 1 Axes>"
            ]
          },
          "metadata": {
            "tags": []
          }
        }
      ]
    },
    {
      "cell_type": "code",
      "metadata": {
        "id": "bqdreefhTmoi",
        "colab_type": "code",
        "colab": {
          "base_uri": "https://localhost:8080/",
          "height": 1000
        },
        "outputId": "5a453273-ed6d-4bea-9749-eca1d72d1f14"
      },
      "source": [
        "#Most frequently occuring Tri-grams\n",
        "def get_top_n3_words(corpus, n=None):\n",
        "    vec1 = CountVectorizer(ngram_range=(3,3), \n",
        "           max_features=2000).fit(corpus)\n",
        "    bag_of_words = vec1.transform(corpus)\n",
        "    sum_words = bag_of_words.sum(axis=0) \n",
        "    words_freq = [(word, sum_words[0, idx]) for word, idx in     \n",
        "                  vec1.vocabulary_.items()]\n",
        "    words_freq =sorted(words_freq, key = lambda x: x[1], \n",
        "                reverse=True)\n",
        "    return words_freq[:n]\n",
        "top3_words = get_top_n3_words(corpus, n=20)\n",
        "top3_df = pd.DataFrame(top3_words)\n",
        "top3_df.columns=[\"Tri-gram\", \"Freq\"]\n",
        "print(top3_df)\n",
        "#Barplot of most freq Tri-grams\n",
        "import seaborn as sns\n",
        "sns.set(rc={'figure.figsize':(13,8)})\n",
        "j=sns.barplot(x=\"Tri-gram\", y=\"Freq\", data=top3_df)\n",
        "j.set_xticklabels(j.get_xticklabels(), rotation=45)"
      ],
      "execution_count": 70,
      "outputs": [
        {
          "output_type": "stream",
          "text": [
            "                  Tri-gram  Freq\n",
            "0         hot water bottle  9505\n",
            "1     alarm clock bakelike  4461\n",
            "2          home sweet home  3974\n",
            "3        bag red retrospot  3797\n",
            "4       heart light holder  3692\n",
            "5          paper chain kit  3324\n",
            "6      hanging heart light  3230\n",
            "7        bag pink polkadot  3165\n",
            "8       travel card wallet  3150\n",
            "9    regency teacup saucer  3052\n",
            "10     ceramic drawer knob  2496\n",
            "11           jumbo bag red  2428\n",
            "12          jam making set  2411\n",
            "13     white hanging heart  2369\n",
            "14       set red retrospot  2354\n",
            "15       tin pantry design  2343\n",
            "16         bag suki design  2259\n",
            "17       dolly girl design  2208\n",
            "18  regency cakestand tier  2200\n",
            "19          jumbo bag pink  2136\n"
          ],
          "name": "stdout"
        },
        {
          "output_type": "execute_result",
          "data": {
            "text/plain": [
              "[Text(0, 0, 'hot water bottle'),\n",
              " Text(0, 0, 'alarm clock bakelike'),\n",
              " Text(0, 0, 'home sweet home'),\n",
              " Text(0, 0, 'bag red retrospot'),\n",
              " Text(0, 0, 'heart light holder'),\n",
              " Text(0, 0, 'paper chain kit'),\n",
              " Text(0, 0, 'hanging heart light'),\n",
              " Text(0, 0, 'bag pink polkadot'),\n",
              " Text(0, 0, 'travel card wallet'),\n",
              " Text(0, 0, 'regency teacup saucer'),\n",
              " Text(0, 0, 'ceramic drawer knob'),\n",
              " Text(0, 0, 'jumbo bag red'),\n",
              " Text(0, 0, 'jam making set'),\n",
              " Text(0, 0, 'white hanging heart'),\n",
              " Text(0, 0, 'set red retrospot'),\n",
              " Text(0, 0, 'tin pantry design'),\n",
              " Text(0, 0, 'bag suki design'),\n",
              " Text(0, 0, 'dolly girl design'),\n",
              " Text(0, 0, 'regency cakestand tier'),\n",
              " Text(0, 0, 'jumbo bag pink')]"
            ]
          },
          "metadata": {
            "tags": []
          },
          "execution_count": 70
        },
        {
          "output_type": "display_data",
          "data": {
            "image/png": "[encoded data removed]",
            "text/plain": [
              "<Figure size 936x576 with 1 Axes>"
            ]
          },
          "metadata": {
            "tags": []
          }
        }
      ]
    },
    {
      "cell_type": "markdown",
      "metadata": {
        "id": "ZCiIIjFaUBeR",
        "colab_type": "text"
      },
      "source": [
        "**Converting to a matrix of integers**"
      ]
    },
    {
      "cell_type": "code",
      "metadata": {
        "id": "zkwWHpWoTzNs",
        "colab_type": "code",
        "colab": {}
      },
      "source": [
        "from sklearn.feature_extraction.text import TfidfTransformer\n",
        " \n",
        "tfidf_transformer=TfidfTransformer(smooth_idf=True,use_idf=True)\n",
        "tfidf_transformer.fit(X)\n",
        "# get feature names\n",
        "feature_names=cv.get_feature_names()\n",
        " \n",
        "# fetch document for which keywords needs to be extracted\n",
        "doc=corpus[300]\n",
        " \n",
        "#generate tf-idf for the given document\n",
        "tf_idf_vector=tfidf_transformer.transform(cv.transform([doc]))"
      ],
      "execution_count": 79,
      "outputs": []
    },
    {
      "cell_type": "code",
      "metadata": {
        "id": "7lxpJ6cbUmWl",
        "colab_type": "code",
        "colab": {
          "base_uri": "https://localhost:8080/",
          "height": 187
        },
        "outputId": "1c2efb1e-0145-42fa-e008-f870f1b611e0"
      },
      "source": [
        "#Function for sorting tf_idf in descending order\n",
        "from scipy.sparse import coo_matrix\n",
        "def sort_coo(coo_matrix):\n",
        "    tuples = zip(coo_matrix.col, coo_matrix.data)\n",
        "    return sorted(tuples, key=lambda x: (x[1], x[0]), reverse=True)\n",
        " \n",
        "def extract_topn_from_vector(feature_names, sorted_items, topn=10):\n",
        "    \"\"\"get the feature names and tf-idf score of top n items\"\"\"\n",
        "    \n",
        "    #use only topn items from vector\n",
        "    sorted_items = sorted_items[:topn]\n",
        " \n",
        "    score_vals = []\n",
        "    feature_vals = []\n",
        "    \n",
        "    # word index and corresponding tf-idf score\n",
        "    for idx, score in sorted_items:\n",
        "        \n",
        "        #keep track of feature name and its corresponding score\n",
        "        score_vals.append(round(score, 3))\n",
        "        feature_vals.append(feature_names[idx])\n",
        " \n",
        "    #create a tuples of feature,score\n",
        "    #results = zip(feature_vals,score_vals)\n",
        "    results= {}\n",
        "    for idx in range(len(feature_vals)):\n",
        "        results[feature_vals[idx]]=score_vals[idx]\n",
        "    \n",
        "    return results\n",
        "    \n",
        "#sort the tf-idf vectors by descending order of scores\n",
        "sorted_items=sort_coo(tf_idf_vector.tocoo())\n",
        "#extract only the top n; n here is 10\n",
        "keywords=extract_topn_from_vector(feature_names,sorted_items,5)\n",
        " \n",
        "# now print the results\n",
        "print(\"\\nAbstract:\")\n",
        "print(doc)\n",
        "print(\"\\nKeywords:\")\n",
        "for k in keywords:\n",
        "    print(k,keywords[k])"
      ],
      "execution_count": 80,
      "outputs": [
        {
          "output_type": "stream",
          "text": [
            "\n",
            "Abstract:\n",
            "babushka light string\n",
            "\n",
            "Keywords:\n",
            "light string 0.479\n",
            "babushka light string 0.479\n",
            "babushka light 0.479\n",
            "string 0.404\n",
            "babushka 0.321\n"
          ],
          "name": "stdout"
        }
      ]
    },
    {
      "cell_type": "code",
      "metadata": {
        "id": "I5JzUIb4WRJS",
        "colab_type": "code",
        "colab": {
          "base_uri": "https://localhost:8080/",
          "height": 119
        },
        "outputId": "8834a3e9-b485-4a90-82e1-206315bf3035"
      },
      "source": [
        "sorted_items"
      ],
      "execution_count": 81,
      "outputs": [
        {
          "output_type": "execute_result",
          "data": {
            "text/plain": [
              "[(4959, 0.4787121372365804),\n",
              " (253, 0.4787121372365804),\n",
              " (252, 0.4787121372365804),\n",
              " (8571, 0.4036715723577381),\n",
              " (248, 0.32051206299520546),\n",
              " (4926, 0.2163916544877487)]"
            ]
          },
          "metadata": {
            "tags": []
          },
          "execution_count": 81
        }
      ]
    },
    {
      "cell_type": "code",
      "metadata": {
        "id": "lSV-Z4iYWdae",
        "colab_type": "code",
        "colab": {
          "base_uri": "https://localhost:8080/",
          "height": 102
        },
        "outputId": "2926be6a-5fc8-4652-eafe-470c955db2b5"
      },
      "source": [
        "keywords"
      ],
      "execution_count": 82,
      "outputs": [
        {
          "output_type": "execute_result",
          "data": {
            "text/plain": [
              "{'babushka': 0.321,\n",
              " 'babushka light': 0.479,\n",
              " 'babushka light string': 0.479,\n",
              " 'light string': 0.479,\n",
              " 'string': 0.404}"
            ]
          },
          "metadata": {
            "tags": []
          },
          "execution_count": 82
        }
      ]
    },
    {
      "cell_type": "code",
      "metadata": {
        "id": "xsYGt67vWehj",
        "colab_type": "code",
        "colab": {}
      },
      "source": [
        ""
      ],
      "execution_count": null,
      "outputs": []
    },
    {
      "cell_type": "markdown",
      "metadata": {
        "id": "JZbSjuWWWmF3",
        "colab_type": "text"
      },
      "source": [
        "# Time serious analysis"
      ]
    },
    {
      "cell_type": "code",
      "metadata": {
        "id": "fh--BzCbYSOU",
        "colab_type": "code",
        "colab": {}
      },
      "source": [
        ""
      ],
      "execution_count": null,
      "outputs": []
    }
  ]
}